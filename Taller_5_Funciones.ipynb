{
  "cells": [
    {
      "cell_type": "markdown",
      "id": "66beb5a1",
      "metadata": {
        "id": "66beb5a1"
      },
      "source": [
        "# Fundamentos de Programación para Ingeniería Mecánica\n",
        "## UPB Montería - 202310\n",
        "### Taller 5: Funciones y Estructuras de Datos\n",
        "- Docente: Miguel Ortiz (miguel.ortizp@upb.edu.co)"
      ]
    },
    {
      "cell_type": "markdown",
      "id": "b4381f55",
      "metadata": {
        "id": "b4381f55"
      },
      "source": [
        "Datos del Estudiante:\n",
        "- Nombre: Danie Manjarrez Ibañez\n",
        "- ID: 000521057\n",
        "- email: daniel.manjarrez@upb.edu.co\n"
      ]
    },
    {
      "cell_type": "markdown",
      "id": "433f35a0",
      "metadata": {
        "id": "433f35a0"
      },
      "source": [
        "> Resuelva los siguientes ejercicios utilizando **Funciones, Listas y Diccionarios**."
      ]
    },
    {
      "cell_type": "markdown",
      "id": "aead929b",
      "metadata": {
        "id": "aead929b"
      },
      "source": [
        "### Problema 1: Discurso Político (150xp)\n",
        "\n",
        "Diseñe el algoritmo y escriba un código en lenguaje de programación Python para generar discursos políticos aleatorios, teniendo en cuenta la siguiente imagen:\n",
        "\n",
        "![componentes de un discurso](https://github.com/Mikheltodd/FunProgMec_202310_Taller5/blob/main/discurso.png?raw=1)\n",
        "\n",
        "Para ello, debe solicitar al usuario el nombre del candidato, un presupuesto general, y tres (3) porcentajes que representen los dineros que destinará a diferentes sectores seleccionados de forma aleatoria (lista de beneficio populista).\n",
        "\n",
        "Crea una función sin parámetros que retorne un string con el mensaje político. Dentro de la función deben aparecer los inputs para solicitar información al usuario. Guarda el mensaje creado por la función en una variable llamada `mensaje_politico` e imprime su valor en consola. \n",
        "\n",
        "**Ejemplo:**\n",
        "\n",
        "```\n",
        ">>> Entradas:\n",
        "Ingrese nombre del candidato: Chocolove McDonell\n",
        "Ingrese presupuesto (en millones de pesos): 1250\n",
        "Ingrese Porcentaje 1: 25\n",
        "Ingrese Porcentaje 2: 30\n",
        "Ingrese Porcentaje 3: 45\n",
        ">>> Salidas:\n",
        "Estimados copartidarios. \n",
        "Mi nombre es Chocolove McDonell y hoy vengo a decirles que, con su ayuda combatiré el desplazamiento y promoveré la educación de cada colombiano. Y es por eso que hoy he venido a proponerles invertir $1250.0 millones de pesos de la siguiente manera: \n",
        " - $312.5 millones de pesos en el empleo \n",
        " - $375.0 millones de pesos en la educación \n",
        " - $562.5 millones de pesos en la salud \n",
        "```\n",
        "\n",
        "**Nota:** para seleccionar un elemento aleatorio de una lista puede utilizar la función `choice()` de la librería random:\n",
        "\n",
        "```python\n",
        "import random\n",
        "random.choice([1, 2, 3])\n",
        "```\n",
        "\n",
        "**Recomendación:** cree las variables sin acento (tildes) y en minúsculas. "
      ]
    },
    {
      "cell_type": "code",
      "execution_count": 5,
      "id": "a78382aa",
      "metadata": {
        "id": "a78382aa",
        "outputId": "9227222d-ce76-4f4e-955f-4fc5c68c334b",
        "colab": {
          "base_uri": "https://localhost:8080/"
        }
      },
      "outputs": [
        {
          "output_type": "stream",
          "name": "stdout",
          "text": [
            "Ingrese el nombre del candidato:)Daniel Manjarrez\n",
            "Ingresar presupuesto:)200\n",
            " Honorables  Conciudadanos  Durante mi mandato  Combatire  La inflacion y  Trabajare por La salud De la ciudad/n Respetados  Copartidiarios  Con su apoyo  Eliminare  La delincuencia y  Velare por La educacion Del pais/n Honorables  Copartidiarios  Durante mi mandato  Voy a derrotar  La pobreza y  Garantizare La seguridad De la ciudad/n Estimados Conciudadanos  Con su apoyo  Eliminare  La delincuencia y  Promovere El empleo Para toda la gente/n Apreciados  Copartidiarios  Siendo elegido  Luchare contra  El desplazamiento y Defendere La paz De la ciudad/n Apreciados  Coterraneos  Siendo elegido  Combatire  El desplazamiento y Trabajare por El empleo Del pais/n\n"
          ]
        }
      ],
      "source": [
        "name = input(\"Ingrese el nombre del candidato:)\")\n",
        "presupuesto = input(\"Ingresar presupuesto:)\")\n",
        "porcentaje_1 = 25\n",
        "porcentaje_2 = 30\n",
        "porcentaje_3 = 45\n",
        "\n",
        "titulo = [\" Queridos \", \" Apreciados \", \" Distinguidos \",\" Honorables \", \" Estimados\", \" Respetados \"]\n",
        "publico = [\" Compatriotras \", \" Copartidiarios \",\" Amigos \",\" Coterraneos \", \" Conciudadanos \", \" Electores \"]\n",
        "condicion =[\" En mi cobierno \", \" Con su apoyo \", \" Siendo elegido \", \" Con su ayuda \", \" si me siguen \", \" Durante mi mandato \"]\n",
        "compromiso = [\" Voy a derrotar \", \" Vencere \", \" Eliminare \", \" Acabare \", \" Luchare contra \", \" Combatire \"]\n",
        "ilusion = [\" La violencia y \", \" La delincuencia y \", \" La corrupcion y \", \" La inflacion y \", \" La pobreza y \", \" El desplazamiento y\"]\n",
        "promesa = [\" Trabajare por\", \" Garantizare\", \" Protegere\", \" Velare por\", \" Promovere\", \" Defendere\"]\n",
        "beneficio_populista = [\" La educacion\", \" El empleo\", \" La seguridad\", \" La paz\", \" La igualdad\", \" La salud\"]\n",
        "dependiendo_de_sus_votos = [\" Del pais\", \" De la ciudad\", \" De la comunidad\", \" De la poblacion\", \" Para toda la gente\", \" Para todo colombia\"]\n",
        "\n",
        "my_dict = {1: titulo, 2: publico, 3: condicion, 4: compromiso, 5: ilusion, 6: promesa, 7: beneficio_populista, 8: dependiendo_de_sus_votos}\n",
        "\n",
        "message = \"\"\n",
        "\n",
        "import random\n",
        "lines = 6 \n",
        "for i in range(lines):\n",
        "  for values in my_dict.values():\n",
        "    message += random.choice(values)\n",
        "  message += \"/n\"\n",
        "\n",
        "print(message)"
      ]
    },
    {
      "cell_type": "code",
      "execution_count": null,
      "id": "81812b6a",
      "metadata": {
        "id": "81812b6a"
      },
      "outputs": [],
      "source": [
        "def generar_discurso():\n",
        "  nombre_Candidato = input(\"Ingresar nombre;)\")\n",
        "  presupuesto = int(input(\"Ingrese presupuesto;)\"))\n",
        "  lugares = [\"Educacion\", \"Salud\", \"Empleo\", \"Subsidios\"]\n",
        "  beneficios =[25]\n",
        "\n",
        "for i in range(3):\n",
        "  p_1 = 25\n",
        "  p_2 = 30\n",
        "  p_3 = 45\n",
        "\n",
        "  mensage = f\"¡Buenas tardes ciudadanos! soy [Garnacho] vengo a hablarse sobre nuestra campaña, queridos compatiotras en mi gobierno luchare contra la delincuencia, la violencia, la pobreza y velare por la seguridad, la educacion, la igualdad de la comunidad en todo el pais.\"\n",
        "  for beneficio in beneficio_populista:\n",
        "    porcentaje_presupuesto= 30\n",
        "    mensage += f\"n/n para los lugares de la educacion, salud, empleo, subsidios se van a destinar un 30% del presupuesto las inversiones {presupuesto:} pesos que se van a utilizar para mejorar la calidad de vida de los colombianos. \" \n",
        "\n",
        "  mensage = f\"/n/ para concluir mis estimados compatiotras con su ayuda mejoraremos la vida todos los ciudadanos colombias para disminuir la probrza y las nuevas generaciones tengan un mejor futuro ¡gracias por escucharme!\"\n",
        " \n",
        "\n",
        "  generar_discurso()\n",
        "  print(generar_discurso)"
      ]
    }
  ],
  "metadata": {
    "kernelspec": {
      "display_name": "Python 3 (ipykernel)",
      "language": "python",
      "name": "python3"
    },
    "language_info": {
      "codemirror_mode": {
        "name": "ipython",
        "version": 3
      },
      "file_extension": ".py",
      "mimetype": "text/x-python",
      "name": "python",
      "nbconvert_exporter": "python",
      "pygments_lexer": "ipython3",
      "version": "3.10.6"
    },
    "colab": {
      "provenance": []
    }
  },
  "nbformat": 4,
  "nbformat_minor": 5
}